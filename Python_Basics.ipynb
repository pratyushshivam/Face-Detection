{
  "nbformat": 4,
  "nbformat_minor": 0,
  "metadata": {
    "colab": {
      "name": "Python Basics",
      "provenance": []
    },
    "kernelspec": {
      "name": "python3",
      "display_name": "Python 3"
    }
  },
  "cells": [
    {
      "cell_type": "code",
      "metadata": {
        "id": "3ALaUqJiJens",
        "colab_type": "code",
        "colab": {
          "base_uri": "https://localhost:8080/",
          "height": 34
        },
        "outputId": "29f26ef5-04af-49a2-8ba4-ecc69c54a1a8"
      },
      "source": [
        "# Shift + Enter\n",
        "print(\"Hello World\")"
      ],
      "execution_count": 2,
      "outputs": [
        {
          "output_type": "stream",
          "text": [
            "Hello World\n"
          ],
          "name": "stdout"
        }
      ]
    },
    {
      "cell_type": "code",
      "metadata": {
        "id": "hywCaEhAKGov",
        "colab_type": "code",
        "colab": {}
      },
      "source": [
        "n = 5"
      ],
      "execution_count": 3,
      "outputs": []
    },
    {
      "cell_type": "code",
      "metadata": {
        "id": "fFzpD-kHKQZp",
        "colab_type": "code",
        "colab": {
          "base_uri": "https://localhost:8080/",
          "height": 34
        },
        "outputId": "96876551-807c-44eb-fe1e-538e4ba99340"
      },
      "source": [
        "print(n)"
      ],
      "execution_count": 4,
      "outputs": [
        {
          "output_type": "stream",
          "text": [
            "5\n"
          ],
          "name": "stdout"
        }
      ]
    },
    {
      "cell_type": "code",
      "metadata": {
        "id": "7RBKDBO0KSSn",
        "colab_type": "code",
        "colab": {
          "base_uri": "https://localhost:8080/",
          "height": 34
        },
        "outputId": "4f548394-8196-4e07-811b-1ccd08a9c352"
      },
      "source": [
        "type(n)"
      ],
      "execution_count": 5,
      "outputs": [
        {
          "output_type": "execute_result",
          "data": {
            "text/plain": [
              "int"
            ]
          },
          "metadata": {
            "tags": []
          },
          "execution_count": 5
        }
      ]
    },
    {
      "cell_type": "code",
      "metadata": {
        "id": "M5ty-J0lKabD",
        "colab_type": "code",
        "colab": {}
      },
      "source": [
        "n= \"Hello All\""
      ],
      "execution_count": 6,
      "outputs": []
    },
    {
      "cell_type": "code",
      "metadata": {
        "id": "31d-sMGjKig-",
        "colab_type": "code",
        "colab": {
          "base_uri": "https://localhost:8080/",
          "height": 34
        },
        "outputId": "e61fd58b-7f79-4275-a713-05963e2e8792"
      },
      "source": [
        "print(n)"
      ],
      "execution_count": 7,
      "outputs": [
        {
          "output_type": "stream",
          "text": [
            "Hello All\n"
          ],
          "name": "stdout"
        }
      ]
    },
    {
      "cell_type": "code",
      "metadata": {
        "id": "pDzQGfKiKjTD",
        "colab_type": "code",
        "colab": {
          "base_uri": "https://localhost:8080/",
          "height": 34
        },
        "outputId": "39a49f99-5e85-405e-8f59-7b539c3350e5"
      },
      "source": [
        "type(n)"
      ],
      "execution_count": 10,
      "outputs": [
        {
          "output_type": "execute_result",
          "data": {
            "text/plain": [
              "str"
            ]
          },
          "metadata": {
            "tags": []
          },
          "execution_count": 10
        }
      ]
    },
    {
      "cell_type": "markdown",
      "metadata": {
        "id": "1fhjV1dTKxoS",
        "colab_type": "text"
      },
      "source": [
        "# Condtional Statements"
      ]
    },
    {
      "cell_type": "code",
      "metadata": {
        "id": "9puXwo-1Kkjq",
        "colab_type": "code",
        "colab": {
          "base_uri": "https://localhost:8080/",
          "height": 51
        },
        "outputId": "515bc3db-6026-4a10-86f2-1c785c66103d"
      },
      "source": [
        "n = 2\n",
        "\n",
        "if n>10:\n",
        "  print(\"n is greater than 10\")\n",
        "\n",
        "elif n<5:\n",
        "  print(\" n is smaller than 5\")\n",
        "  print(\"i am inside second block\")\n",
        "\n",
        "else:\n",
        "  print(\"n is between 5 and 10\")\n",
        "  "
      ],
      "execution_count": 15,
      "outputs": [
        {
          "output_type": "stream",
          "text": [
            " n is smaller than 5\n",
            "i am inside second block\n"
          ],
          "name": "stdout"
        }
      ]
    },
    {
      "cell_type": "code",
      "metadata": {
        "id": "FUIAdB5lLASg",
        "colab_type": "code",
        "colab": {
          "base_uri": "https://localhost:8080/",
          "height": 34
        },
        "outputId": "4a404170-36a5-434d-e14b-b162a4dfd608"
      },
      "source": [
        "i = 0\n",
        "\n",
        "while i<=10:\n",
        "  print(i, end=\", \" )\n",
        "  i+=1"
      ],
      "execution_count": 19,
      "outputs": [
        {
          "output_type": "stream",
          "text": [
            "0, 1, 2, 3, 4, 5, 6, 7, 8, 9, 10, "
          ],
          "name": "stdout"
        }
      ]
    },
    {
      "cell_type": "code",
      "metadata": {
        "id": "ucRUMNUGL0JB",
        "colab_type": "code",
        "colab": {
          "base_uri": "https://localhost:8080/",
          "height": 34
        },
        "outputId": "19583063-dbfd-4f6a-9184-1f3eae967bbe"
      },
      "source": [
        "for ele in range(10, 20, 2):\n",
        "  print(ele, end= \" \")"
      ],
      "execution_count": 23,
      "outputs": [
        {
          "output_type": "stream",
          "text": [
            "10 12 14 16 18 "
          ],
          "name": "stdout"
        }
      ]
    },
    {
      "cell_type": "markdown",
      "metadata": {
        "id": "O_gvB4mCMzY4",
        "colab_type": "text"
      },
      "source": [
        "## Functions"
      ]
    },
    {
      "cell_type": "code",
      "metadata": {
        "id": "s43xMkFjMRXc",
        "colab_type": "code",
        "colab": {}
      },
      "source": [
        "def say_hello(name=None):\n",
        "  print(\"Hello \" + name)"
      ],
      "execution_count": 29,
      "outputs": []
    },
    {
      "cell_type": "code",
      "metadata": {
        "id": "R_D8Sn3CNHCG",
        "colab_type": "code",
        "colab": {
          "base_uri": "https://localhost:8080/",
          "height": 34
        },
        "outputId": "03da039f-9d2f-4099-c1ef-1cd8a9426ca8"
      },
      "source": [
        "say_hello(\"Coding Blocks\")"
      ],
      "execution_count": 30,
      "outputs": [
        {
          "output_type": "stream",
          "text": [
            "Hello Coding Blocks\n"
          ],
          "name": "stdout"
        }
      ]
    },
    {
      "cell_type": "code",
      "metadata": {
        "id": "JVy4Qb9pNLHo",
        "colab_type": "code",
        "colab": {}
      },
      "source": [
        "def calculator(a, b):\n",
        "  sum = a+b\n",
        "  diff = a-b\n",
        "  prod = a*b\n",
        "  divide = a/b\n",
        "\n",
        "  return sum,diff,prod, divide"
      ],
      "execution_count": 31,
      "outputs": []
    },
    {
      "cell_type": "code",
      "metadata": {
        "id": "k5lYl5crNhGA",
        "colab_type": "code",
        "colab": {
          "base_uri": "https://localhost:8080/",
          "height": 34
        },
        "outputId": "96a797ab-e221-454b-9f67-ccc0316de9d1"
      },
      "source": [
        "calculator(8,3)"
      ],
      "execution_count": 32,
      "outputs": [
        {
          "output_type": "execute_result",
          "data": {
            "text/plain": [
              "(11, 5, 24, 2.6666666666666665)"
            ]
          },
          "metadata": {
            "tags": []
          },
          "execution_count": 32
        }
      ]
    },
    {
      "cell_type": "markdown",
      "metadata": {
        "id": "RvNqJA_fN1XE",
        "colab_type": "text"
      },
      "source": [
        "# Data Strucures\n",
        "- List\n",
        "- Tuples\n",
        "- Dictionary\n",
        "- Sets"
      ]
    },
    {
      "cell_type": "code",
      "metadata": {
        "id": "VgDfRQzkNnNV",
        "colab_type": "code",
        "colab": {}
      },
      "source": [
        "li = [4,6,2,9,8,7]"
      ],
      "execution_count": 33,
      "outputs": []
    },
    {
      "cell_type": "code",
      "metadata": {
        "id": "aikk4tQyOTTN",
        "colab_type": "code",
        "colab": {
          "base_uri": "https://localhost:8080/",
          "height": 34
        },
        "outputId": "45ffd838-3ef3-40c0-bf25-7c478369bcf3"
      },
      "source": [
        "type(li)"
      ],
      "execution_count": 34,
      "outputs": [
        {
          "output_type": "execute_result",
          "data": {
            "text/plain": [
              "list"
            ]
          },
          "metadata": {
            "tags": []
          },
          "execution_count": 34
        }
      ]
    },
    {
      "cell_type": "code",
      "metadata": {
        "id": "i0A3nbB2Ok3l",
        "colab_type": "code",
        "colab": {
          "base_uri": "https://localhost:8080/",
          "height": 85
        },
        "outputId": "e38b83ad-fed0-46c4-e63e-958c72610513"
      },
      "source": [
        "print(li[0])\n",
        "print(li[1])\n",
        "print(li[-1]) # Negative Indexing\n",
        "print(li[-3])"
      ],
      "execution_count": 38,
      "outputs": [
        {
          "output_type": "stream",
          "text": [
            "4\n",
            "6\n",
            "7\n",
            "9\n"
          ],
          "name": "stdout"
        }
      ]
    },
    {
      "cell_type": "code",
      "metadata": {
        "id": "nhG3cVfSOpCq",
        "colab_type": "code",
        "colab": {
          "base_uri": "https://localhost:8080/",
          "height": 34
        },
        "outputId": "02311696-eb79-4069-e174-e1b34ca97283"
      },
      "source": [
        "# List Slicing\n",
        "\n",
        "# li[start_index : end_index + 1]\n",
        "li[1:5]"
      ],
      "execution_count": 39,
      "outputs": [
        {
          "output_type": "execute_result",
          "data": {
            "text/plain": [
              "[6, 2, 9, 8]"
            ]
          },
          "metadata": {
            "tags": []
          },
          "execution_count": 39
        }
      ]
    },
    {
      "cell_type": "code",
      "metadata": {
        "id": "baGIalOyPuj7",
        "colab_type": "code",
        "colab": {
          "base_uri": "https://localhost:8080/",
          "height": 34
        },
        "outputId": "d2dc19ee-6c42-40ea-cf33-fcf5a92dc971"
      },
      "source": [
        "li[:]"
      ],
      "execution_count": 40,
      "outputs": [
        {
          "output_type": "execute_result",
          "data": {
            "text/plain": [
              "[4, 6, 2, 9, 8, 7]"
            ]
          },
          "metadata": {
            "tags": []
          },
          "execution_count": 40
        }
      ]
    },
    {
      "cell_type": "code",
      "metadata": {
        "id": "Ner2BxczQD4j",
        "colab_type": "code",
        "colab": {
          "base_uri": "https://localhost:8080/",
          "height": 34
        },
        "outputId": "436d84f9-be15-4a81-d164-b23eda5cea34"
      },
      "source": [
        "li"
      ],
      "execution_count": 41,
      "outputs": [
        {
          "output_type": "execute_result",
          "data": {
            "text/plain": [
              "[4, 6, 2, 9, 8, 7]"
            ]
          },
          "metadata": {
            "tags": []
          },
          "execution_count": 41
        }
      ]
    },
    {
      "cell_type": "code",
      "metadata": {
        "id": "K4ali5u8QIJT",
        "colab_type": "code",
        "colab": {}
      },
      "source": [
        "li[0] = 99"
      ],
      "execution_count": 42,
      "outputs": []
    },
    {
      "cell_type": "code",
      "metadata": {
        "id": "pOCIgOLzQK7T",
        "colab_type": "code",
        "colab": {
          "base_uri": "https://localhost:8080/",
          "height": 34
        },
        "outputId": "d53ee7af-9018-4159-96ba-ab0643c42576"
      },
      "source": [
        "li"
      ],
      "execution_count": 43,
      "outputs": [
        {
          "output_type": "execute_result",
          "data": {
            "text/plain": [
              "[99, 6, 2, 9, 8, 7]"
            ]
          },
          "metadata": {
            "tags": []
          },
          "execution_count": 43
        }
      ]
    },
    {
      "cell_type": "code",
      "metadata": {
        "id": "Op5GEKRpQLnL",
        "colab_type": "code",
        "colab": {}
      },
      "source": [
        "li2 = [4,6, \"Hello\", False, [8,9,10], 4.5, 2.3]"
      ],
      "execution_count": 44,
      "outputs": []
    },
    {
      "cell_type": "code",
      "metadata": {
        "id": "PZmQjyACQnMM",
        "colab_type": "code",
        "colab": {
          "base_uri": "https://localhost:8080/",
          "height": 34
        },
        "outputId": "e7f65376-80fa-439f-d2d9-401d7010d337"
      },
      "source": [
        "li2"
      ],
      "execution_count": 45,
      "outputs": [
        {
          "output_type": "execute_result",
          "data": {
            "text/plain": [
              "[4, 6, 'Hello', False, [8, 9, 10], 4.5, 2.3]"
            ]
          },
          "metadata": {
            "tags": []
          },
          "execution_count": 45
        }
      ]
    },
    {
      "cell_type": "code",
      "metadata": {
        "id": "bpRnicVaQ43i",
        "colab_type": "code",
        "colab": {}
      },
      "source": [
        "tup = (5,6 ,2,1)"
      ],
      "execution_count": 46,
      "outputs": []
    },
    {
      "cell_type": "code",
      "metadata": {
        "id": "4Pkr4Go0RPJ1",
        "colab_type": "code",
        "colab": {
          "base_uri": "https://localhost:8080/",
          "height": 34
        },
        "outputId": "112bf894-33c8-4fe7-8fb8-a5eb0b8ce069"
      },
      "source": [
        "type(tup)"
      ],
      "execution_count": 47,
      "outputs": [
        {
          "output_type": "execute_result",
          "data": {
            "text/plain": [
              "tuple"
            ]
          },
          "metadata": {
            "tags": []
          },
          "execution_count": 47
        }
      ]
    },
    {
      "cell_type": "code",
      "metadata": {
        "id": "hLbV1ipeRQZB",
        "colab_type": "code",
        "colab": {
          "base_uri": "https://localhost:8080/",
          "height": 34
        },
        "outputId": "912d23ec-e565-40a9-e4a5-10322a6c1692"
      },
      "source": [
        "tup[0]"
      ],
      "execution_count": 48,
      "outputs": [
        {
          "output_type": "execute_result",
          "data": {
            "text/plain": [
              "5"
            ]
          },
          "metadata": {
            "tags": []
          },
          "execution_count": 48
        }
      ]
    },
    {
      "cell_type": "code",
      "metadata": {
        "id": "-JavU1KCRSg-",
        "colab_type": "code",
        "colab": {
          "base_uri": "https://localhost:8080/",
          "height": 164
        },
        "outputId": "17fcf47e-6f6b-487f-d7d8-cd05fa9ba991"
      },
      "source": [
        "tup[0] = 99"
      ],
      "execution_count": 49,
      "outputs": [
        {
          "output_type": "error",
          "ename": "TypeError",
          "evalue": "ignored",
          "traceback": [
            "\u001b[0;31m---------------------------------------------------------------------------\u001b[0m",
            "\u001b[0;31mTypeError\u001b[0m                                 Traceback (most recent call last)",
            "\u001b[0;32m<ipython-input-49-b9fb04e519f7>\u001b[0m in \u001b[0;36m<module>\u001b[0;34m()\u001b[0m\n\u001b[0;32m----> 1\u001b[0;31m \u001b[0mtup\u001b[0m\u001b[0;34m[\u001b[0m\u001b[0;36m0\u001b[0m\u001b[0;34m]\u001b[0m \u001b[0;34m=\u001b[0m \u001b[0;36m99\u001b[0m\u001b[0;34m\u001b[0m\u001b[0;34m\u001b[0m\u001b[0m\n\u001b[0m",
            "\u001b[0;31mTypeError\u001b[0m: 'tuple' object does not support item assignment"
          ]
        }
      ]
    },
    {
      "cell_type": "code",
      "metadata": {
        "id": "Po2RiBg-RYFv",
        "colab_type": "code",
        "colab": {}
      },
      "source": [
        ""
      ],
      "execution_count": 53,
      "outputs": []
    },
    {
      "cell_type": "code",
      "metadata": {
        "id": "R-qxwp4aRya7",
        "colab_type": "code",
        "colab": {}
      },
      "source": [
        "# Kye value pair\n",
        "canteen_menu = {\n",
        "    \"samosa\" : 10,\n",
        "    \"juice\" : 20,\n",
        "    'pizza' : 50\n",
        "}"
      ],
      "execution_count": 55,
      "outputs": []
    },
    {
      "cell_type": "code",
      "metadata": {
        "id": "dxo23BAkScYn",
        "colab_type": "code",
        "colab": {
          "base_uri": "https://localhost:8080/",
          "height": 34
        },
        "outputId": "6a26ec9a-3e3c-4291-afcf-2db5eb1a3858"
      },
      "source": [
        "type(canteen_menu)"
      ],
      "execution_count": 56,
      "outputs": [
        {
          "output_type": "execute_result",
          "data": {
            "text/plain": [
              "dict"
            ]
          },
          "metadata": {
            "tags": []
          },
          "execution_count": 56
        }
      ]
    },
    {
      "cell_type": "code",
      "metadata": {
        "id": "CsJ4r8S_SlrH",
        "colab_type": "code",
        "colab": {
          "base_uri": "https://localhost:8080/",
          "height": 34
        },
        "outputId": "f274681b-39ca-43aa-db62-ef709ed39a8f"
      },
      "source": [
        "canteen_menu['pizza']"
      ],
      "execution_count": 57,
      "outputs": [
        {
          "output_type": "execute_result",
          "data": {
            "text/plain": [
              "50"
            ]
          },
          "metadata": {
            "tags": []
          },
          "execution_count": 57
        }
      ]
    },
    {
      "cell_type": "code",
      "metadata": {
        "id": "zsJ-QySPSnpA",
        "colab_type": "code",
        "colab": {}
      },
      "source": [
        "# adding new elements\n",
        "canteen_menu['fruits'] = 25"
      ],
      "execution_count": 60,
      "outputs": []
    },
    {
      "cell_type": "code",
      "metadata": {
        "id": "30eCPTAISqw3",
        "colab_type": "code",
        "colab": {
          "base_uri": "https://localhost:8080/",
          "height": 34
        },
        "outputId": "6c0250a9-68b4-4818-a571-b5a9a66334e3"
      },
      "source": [
        "canteen_menu"
      ],
      "execution_count": 61,
      "outputs": [
        {
          "output_type": "execute_result",
          "data": {
            "text/plain": [
              "{'fruits': 25, 'juice': 20, 'pizza': 50, 'samosa': 10}"
            ]
          },
          "metadata": {
            "tags": []
          },
          "execution_count": 61
        }
      ]
    },
    {
      "cell_type": "code",
      "metadata": {
        "id": "h4VBY9RvSznU",
        "colab_type": "code",
        "colab": {}
      },
      "source": [
        ""
      ],
      "execution_count": null,
      "outputs": []
    }
  ]
}